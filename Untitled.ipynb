{
 "cells": [
  {
   "cell_type": "code",
   "execution_count": 10,
   "metadata": {},
   "outputs": [],
   "source": [
    "import scipy as sp;\n",
    "import numpy as np;\n",
    "N = 2;\n",
    "y = np.arange(1,N+1);\n",
    "x = y+N;\n",
    "X = np.zeros([N,N]);\n",
    "for i in np.arange(0,N):\n",
    "    for j in np.arange(0,N):\n",
    "        X[i,j] = np.log(x[i]-y[j]);\n",
    "K = np.zeros([N*N,2*N*N]);\n",
    "K[0,0] = "
   ]
  },
  {
   "cell_type": "code",
   "execution_count": 8,
   "metadata": {},
   "outputs": [
    {
     "data": {
      "text/plain": [
       "16"
      ]
     },
     "execution_count": 8,
     "metadata": {},
     "output_type": "execute_result"
    }
   ],
   "source": [
    "from scipy import linalg;\n",
    "from numpy import linalg;\n",
    "np.linalg.matrix_rank(X)"
   ]
  },
  {
   "cell_type": "code",
   "execution_count": 21,
   "metadata": {},
   "outputs": [],
   "source": [
    "A = sp.random.rand(5,5);"
   ]
  },
  {
   "cell_type": "code",
   "execution_count": 22,
   "metadata": {},
   "outputs": [
    {
     "data": {
      "text/plain": [
       "35.17246975750279"
      ]
     },
     "execution_count": 22,
     "metadata": {},
     "output_type": "execute_result"
    }
   ],
   "source": [
    "np.linalg.cond(A,'fro')"
   ]
  },
  {
   "cell_type": "code",
   "execution_count": 13,
   "metadata": {},
   "outputs": [
    {
     "data": {
      "text/plain": [
       "(array([[-0.21159257,  0.44005097,  0.58614973, -0.64027643, -0.08976816],\n",
       "        [-0.35089495, -0.51814916, -0.21667428, -0.3452769 , -0.66500398],\n",
       "        [-0.69778461, -0.2450438 ,  0.4608156 ,  0.46020358,  0.17003474],\n",
       "        [-0.52632651,  0.63215004, -0.54612014,  0.12254068, -0.10051515],\n",
       "        [-0.26110985, -0.27967203, -0.31445592, -0.49399029,  0.71463016]]),\n",
       " array([1.83533526, 0.49348688, 0.27943755]),\n",
       " array([[-0.21829256, -0.71253951, -0.66681017],\n",
       "        [ 0.48714536,  0.51250411, -0.70712724],\n",
       "        [-0.84559905,  0.4791941 , -0.23523449]]))"
      ]
     },
     "execution_count": 13,
     "metadata": {},
     "output_type": "execute_result"
    }
   ],
   "source": [
    "np.linalg.svd(A)"
   ]
  },
  {
   "cell_type": "code",
   "execution_count": 14,
   "metadata": {},
   "outputs": [
    {
     "data": {
      "text/plain": [
       "6.567962179742844"
      ]
     },
     "execution_count": 14,
     "metadata": {},
     "output_type": "execute_result"
    }
   ],
   "source": [
    "1.83533526/0.27943755"
   ]
  },
  {
   "cell_type": "code",
   "execution_count": null,
   "metadata": {},
   "outputs": [],
   "source": []
  }
 ],
 "metadata": {
  "kernelspec": {
   "display_name": "Python 3",
   "language": "python",
   "name": "python3"
  },
  "language_info": {
   "codemirror_mode": {
    "name": "ipython",
    "version": 3
   },
   "file_extension": ".py",
   "mimetype": "text/x-python",
   "name": "python",
   "nbconvert_exporter": "python",
   "pygments_lexer": "ipython3",
   "version": "3.6.6"
  }
 },
 "nbformat": 4,
 "nbformat_minor": 2
}
